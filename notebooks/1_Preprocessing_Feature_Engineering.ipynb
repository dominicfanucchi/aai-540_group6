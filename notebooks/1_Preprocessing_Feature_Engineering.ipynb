{
 "cells": [
  {
   "cell_type": "code",
   "execution_count": 1,
   "id": "8756cc38-031d-4142-8011-4273bef96d6a",
   "metadata": {},
   "outputs": [
    {
     "data": {
      "text/plain": [
       "'\\nPurpose of this notebook is to apply preprocessing and feature engineering \\ntactics on our metadata, while simultaneously reducing the dimensionality \\nof the data given the computational requirements needed to process a large dataset. \\nAll results are uploaded to an S3 bucket, which also houses our raw .json dataset\\n'"
      ]
     },
     "execution_count": 1,
     "metadata": {},
     "output_type": "execute_result"
    }
   ],
   "source": [
    "'''\n",
    "Purpose of this notebook is to apply preprocessing and feature engineering \n",
    "tactics on our metadata, while simultaneously reducing the dimensionality \n",
    "of the data given the computational requirements needed to process a large dataset. \n",
    "All results are uploaded to an S3 bucket, which also houses our raw .json dataset\n",
    "'''"
   ]
  },
  {
   "cell_type": "code",
   "execution_count": 1,
   "id": "54af0c3b-c226-406d-83d5-8419f39a84f9",
   "metadata": {
    "scrolled": true
   },
   "outputs": [
    {
     "name": "stdout",
     "output_type": "stream",
     "text": [
      "Requirement already satisfied: awswrangler in /home/ec2-user/anaconda3/envs/python3/lib/python3.10/site-packages (3.11.0)\n",
      "Requirement already satisfied: boto3<2.0.0,>=1.20.32 in /home/ec2-user/anaconda3/envs/python3/lib/python3.10/site-packages (from awswrangler) (1.37.1)\n",
      "Requirement already satisfied: botocore<2.0.0,>=1.23.32 in /home/ec2-user/anaconda3/envs/python3/lib/python3.10/site-packages (from awswrangler) (1.37.1)\n",
      "Requirement already satisfied: numpy<3.0,>=1.26 in /home/ec2-user/anaconda3/envs/python3/lib/python3.10/site-packages (from awswrangler) (1.26.4)\n",
      "Requirement already satisfied: packaging<25.0,>=21.1 in /home/ec2-user/anaconda3/envs/python3/lib/python3.10/site-packages (from awswrangler) (21.3)\n",
      "Requirement already satisfied: pandas<3.0.0,>=1.2.0 in /home/ec2-user/anaconda3/envs/python3/lib/python3.10/site-packages (from awswrangler) (1.5.3)\n",
      "Requirement already satisfied: pyarrow<19.0.0,>=8.0.0 in /home/ec2-user/anaconda3/envs/python3/lib/python3.10/site-packages (from awswrangler) (18.1.0)\n",
      "Requirement already satisfied: typing-extensions<5.0.0,>=4.4.0 in /home/ec2-user/anaconda3/envs/python3/lib/python3.10/site-packages (from awswrangler) (4.12.2)\n",
      "Requirement already satisfied: jmespath<2.0.0,>=0.7.1 in /home/ec2-user/anaconda3/envs/python3/lib/python3.10/site-packages (from boto3<2.0.0,>=1.20.32->awswrangler) (1.0.1)\n",
      "Requirement already satisfied: s3transfer<0.12.0,>=0.11.0 in /home/ec2-user/anaconda3/envs/python3/lib/python3.10/site-packages (from boto3<2.0.0,>=1.20.32->awswrangler) (0.11.2)\n",
      "Requirement already satisfied: python-dateutil<3.0.0,>=2.1 in /home/ec2-user/anaconda3/envs/python3/lib/python3.10/site-packages (from botocore<2.0.0,>=1.23.32->awswrangler) (2.9.0.post0)\n",
      "Requirement already satisfied: urllib3!=2.2.0,<3,>=1.25.4 in /home/ec2-user/anaconda3/envs/python3/lib/python3.10/site-packages (from botocore<2.0.0,>=1.23.32->awswrangler) (2.3.0)\n",
      "Requirement already satisfied: pyparsing!=3.0.5,>=2.0.2 in /home/ec2-user/anaconda3/envs/python3/lib/python3.10/site-packages (from packaging<25.0,>=21.1->awswrangler) (3.2.1)\n",
      "Requirement already satisfied: pytz>=2020.1 in /home/ec2-user/anaconda3/envs/python3/lib/python3.10/site-packages (from pandas<3.0.0,>=1.2.0->awswrangler) (2025.1)\n",
      "Requirement already satisfied: six>=1.5 in /home/ec2-user/anaconda3/envs/python3/lib/python3.10/site-packages (from python-dateutil<3.0.0,>=2.1->botocore<2.0.0,>=1.23.32->awswrangler) (1.17.0)\n"
     ]
    }
   ],
   "source": [
    "!pip install awswrangler"
   ]
  },
  {
   "cell_type": "code",
   "execution_count": 2,
   "id": "a4e6605f-9d8b-4de6-889d-1a013b3a45ae",
   "metadata": {},
   "outputs": [
    {
     "name": "stderr",
     "output_type": "stream",
     "text": [
      "/home/ec2-user/anaconda3/envs/python3/lib/python3.10/site-packages/pydantic/_internal/_fields.py:192: UserWarning: Field name \"json\" in \"MonitoringDatasetFormat\" shadows an attribute in parent \"Base\"\n",
      "  warnings.warn(\n"
     ]
    },
    {
     "data": {
      "text/html": [
       "<pre style=\"white-space:pre;overflow-x:auto;line-height:normal;font-family:Menlo,'DejaVu Sans Mono',consolas,'Courier New',monospace\"><span style=\"color: #7fbfbf; text-decoration-color: #7fbfbf\">[03/04/25 00:16:47] </span><span style=\"color: #0069ff; text-decoration-color: #0069ff; font-weight: bold\">INFO    </span> Found credentials from IAM Role:                                   <a href=\"file:///home/ec2-user/anaconda3/envs/python3/lib/python3.10/site-packages/botocore/credentials.py\" target=\"_blank\"><span style=\"color: #7f7f7f; text-decoration-color: #7f7f7f\">credentials.py</span></a><span style=\"color: #7f7f7f; text-decoration-color: #7f7f7f\">:</span><a href=\"file:///home/ec2-user/anaconda3/envs/python3/lib/python3.10/site-packages/botocore/credentials.py#1132\" target=\"_blank\"><span style=\"color: #7f7f7f; text-decoration-color: #7f7f7f\">1132</span></a>\n",
       "<span style=\"color: #7fbfbf; text-decoration-color: #7fbfbf\">                    </span>         BaseNotebookInstanceEc2InstanceRole                                <span style=\"color: #7f7f7f; text-decoration-color: #7f7f7f\">                   </span>\n",
       "</pre>\n"
      ],
      "text/plain": [
       "\u001b[2;36m[03/04/25 00:16:47]\u001b[0m\u001b[2;36m \u001b[0m\u001b[1;38;2;0;105;255mINFO    \u001b[0m Found credentials from IAM Role:                                   \u001b]8;id=519403;file:///home/ec2-user/anaconda3/envs/python3/lib/python3.10/site-packages/botocore/credentials.py\u001b\\\u001b[2mcredentials.py\u001b[0m\u001b]8;;\u001b\\\u001b[2m:\u001b[0m\u001b]8;id=210991;file:///home/ec2-user/anaconda3/envs/python3/lib/python3.10/site-packages/botocore/credentials.py#1132\u001b\\\u001b[2m1132\u001b[0m\u001b]8;;\u001b\\\n",
       "\u001b[2;36m                    \u001b[0m         BaseNotebookInstanceEc2InstanceRole                                \u001b[2m                   \u001b[0m\n"
      ]
     },
     "metadata": {},
     "output_type": "display_data"
    },
    {
     "name": "stdout",
     "output_type": "stream",
     "text": [
      "sagemaker.config INFO - Not applying SDK defaults from location: /etc/xdg/sagemaker/config.yaml\n",
      "sagemaker.config INFO - Not applying SDK defaults from location: /home/ec2-user/.config/sagemaker/config.yaml\n"
     ]
    },
    {
     "data": {
      "text/html": [
       "<pre style=\"white-space:pre;overflow-x:auto;line-height:normal;font-family:Menlo,'DejaVu Sans Mono',consolas,'Courier New',monospace\"><span style=\"color: #7fbfbf; text-decoration-color: #7fbfbf\">[03/04/25 00:16:48] </span><span style=\"color: #0069ff; text-decoration-color: #0069ff; font-weight: bold\">INFO    </span> Found credentials from IAM Role:                                   <a href=\"file:///home/ec2-user/anaconda3/envs/python3/lib/python3.10/site-packages/botocore/credentials.py\" target=\"_blank\"><span style=\"color: #7f7f7f; text-decoration-color: #7f7f7f\">credentials.py</span></a><span style=\"color: #7f7f7f; text-decoration-color: #7f7f7f\">:</span><a href=\"file:///home/ec2-user/anaconda3/envs/python3/lib/python3.10/site-packages/botocore/credentials.py#1132\" target=\"_blank\"><span style=\"color: #7f7f7f; text-decoration-color: #7f7f7f\">1132</span></a>\n",
       "<span style=\"color: #7fbfbf; text-decoration-color: #7fbfbf\">                    </span>         BaseNotebookInstanceEc2InstanceRole                                <span style=\"color: #7f7f7f; text-decoration-color: #7f7f7f\">                   </span>\n",
       "</pre>\n"
      ],
      "text/plain": [
       "\u001b[2;36m[03/04/25 00:16:48]\u001b[0m\u001b[2;36m \u001b[0m\u001b[1;38;2;0;105;255mINFO    \u001b[0m Found credentials from IAM Role:                                   \u001b]8;id=960998;file:///home/ec2-user/anaconda3/envs/python3/lib/python3.10/site-packages/botocore/credentials.py\u001b\\\u001b[2mcredentials.py\u001b[0m\u001b]8;;\u001b\\\u001b[2m:\u001b[0m\u001b]8;id=501086;file:///home/ec2-user/anaconda3/envs/python3/lib/python3.10/site-packages/botocore/credentials.py#1132\u001b\\\u001b[2m1132\u001b[0m\u001b]8;;\u001b\\\n",
       "\u001b[2;36m                    \u001b[0m         BaseNotebookInstanceEc2InstanceRole                                \u001b[2m                   \u001b[0m\n"
      ]
     },
     "metadata": {},
     "output_type": "display_data"
    },
    {
     "data": {
      "text/html": [
       "<pre style=\"white-space:pre;overflow-x:auto;line-height:normal;font-family:Menlo,'DejaVu Sans Mono',consolas,'Courier New',monospace\"><span style=\"color: #7fbfbf; text-decoration-color: #7fbfbf\">[03/04/25 00:16:49] </span><span style=\"color: #0069ff; text-decoration-color: #0069ff; font-weight: bold\">INFO    </span> Found credentials from IAM Role:                                   <a href=\"file:///home/ec2-user/anaconda3/envs/python3/lib/python3.10/site-packages/botocore/credentials.py\" target=\"_blank\"><span style=\"color: #7f7f7f; text-decoration-color: #7f7f7f\">credentials.py</span></a><span style=\"color: #7f7f7f; text-decoration-color: #7f7f7f\">:</span><a href=\"file:///home/ec2-user/anaconda3/envs/python3/lib/python3.10/site-packages/botocore/credentials.py#1132\" target=\"_blank\"><span style=\"color: #7f7f7f; text-decoration-color: #7f7f7f\">1132</span></a>\n",
       "<span style=\"color: #7fbfbf; text-decoration-color: #7fbfbf\">                    </span>         BaseNotebookInstanceEc2InstanceRole                                <span style=\"color: #7f7f7f; text-decoration-color: #7f7f7f\">                   </span>\n",
       "</pre>\n"
      ],
      "text/plain": [
       "\u001b[2;36m[03/04/25 00:16:49]\u001b[0m\u001b[2;36m \u001b[0m\u001b[1;38;2;0;105;255mINFO    \u001b[0m Found credentials from IAM Role:                                   \u001b]8;id=648686;file:///home/ec2-user/anaconda3/envs/python3/lib/python3.10/site-packages/botocore/credentials.py\u001b\\\u001b[2mcredentials.py\u001b[0m\u001b]8;;\u001b\\\u001b[2m:\u001b[0m\u001b]8;id=258946;file:///home/ec2-user/anaconda3/envs/python3/lib/python3.10/site-packages/botocore/credentials.py#1132\u001b\\\u001b[2m1132\u001b[0m\u001b]8;;\u001b\\\n",
       "\u001b[2;36m                    \u001b[0m         BaseNotebookInstanceEc2InstanceRole                                \u001b[2m                   \u001b[0m\n"
      ]
     },
     "metadata": {},
     "output_type": "display_data"
    },
    {
     "name": "stdout",
     "output_type": "stream",
     "text": [
      "SageMaker Session Bucket: arxiv-project-bucket\n"
     ]
    }
   ],
   "source": [
    "# Library imports, setup, etc.\n",
    "import os\n",
    "import io\n",
    "import re\n",
    "import time\n",
    "import boto3\n",
    "import nltk\n",
    "import warnings\n",
    "import sagemaker\n",
    "import pandas as pd\n",
    "import seaborn as sns\n",
    "import numpy as np\n",
    "import awswrangler as wr\n",
    "import matplotlib.pyplot as plt\n",
    "from nltk.corpus import stopwords\n",
    "from datetime import datetime\n",
    "from nltk.stem import WordNetLemmatizer\n",
    "from sklearn.feature_extraction.text import TfidfVectorizer\n",
    "from sklearn.decomposition import TruncatedSVD\n",
    "from sagemaker.feature_store.feature_group import FeatureGroup\n",
    "\n",
    "\n",
    "# Too many warnings, lets suppress them\n",
    "warnings.filterwarnings(\"ignore\")\n",
    "sns.set(style=\"whitegrid\")\n",
    "\n",
    "# Session, configuration, important to change in different account\n",
    "bucket_name = \"arxiv-project-bucket\"\n",
    "data_key = \"arxiv-metadata-oai-snapshot.json\"\n",
    "role = \"arn:aws:iam::221082214706:role/MYLabRole\"\n",
    "region = \"us-east-1\"\n",
    "# Path for JSON file in S3\n",
    "s3_path = f\"s3://{bucket_name}/{data_key}\"\n",
    "\n",
    "# Output everything into S3 directory with processed header\n",
    "output_dir = \"./processed_csv\"\n",
    "if not os.path.exists(output_dir):\n",
    "    os.makedirs(output_dir)\n",
    "\n",
    "# S3 prefixes for uploading CSV files\n",
    "test_prefix = \"processed_csv/test\"\n",
    "train_prefix = \"processed_csv/train\"\n",
    "val_prefix = \"processed_csv/val\"\n",
    "\n",
    "sess = sagemaker.Session(boto_session=boto3.Session(region_name=region))\n",
    "s3_client = boto3.client('s3', region_name=region)\n",
    "print(\"SageMaker Session Bucket:\", bucket_name)"
   ]
  },
  {
   "cell_type": "code",
   "execution_count": 3,
   "id": "48f202e0-36cb-447b-98a7-2fcdf67c457f",
   "metadata": {},
   "outputs": [
    {
     "name": "stderr",
     "output_type": "stream",
     "text": [
      "[nltk_data] Downloading package stopwords to\n",
      "[nltk_data]     /home/ec2-user/nltk_data...\n",
      "[nltk_data]   Package stopwords is already up-to-date!\n",
      "[nltk_data] Downloading package wordnet to /home/ec2-user/nltk_data...\n",
      "[nltk_data]   Package wordnet is already up-to-date!\n"
     ]
    },
    {
     "data": {
      "text/plain": [
       "True"
      ]
     },
     "execution_count": 3,
     "metadata": {},
     "output_type": "execute_result"
    }
   ],
   "source": [
    "# Need for preprocessing text data\n",
    "nltk.download('stopwords')\n",
    "nltk.download('wordnet')"
   ]
  },
  {
   "cell_type": "code",
   "execution_count": 4,
   "id": "cbd8a9b0-125e-47fe-9ba3-b6dc3438cfa1",
   "metadata": {},
   "outputs": [
    {
     "data": {
      "text/html": [
       "<pre style=\"white-space:pre;overflow-x:auto;line-height:normal;font-family:Menlo,'DejaVu Sans Mono',consolas,'Courier New',monospace\"><span style=\"color: #7fbfbf; text-decoration-color: #7fbfbf\">[03/04/25 00:16:52] </span><span style=\"color: #0069ff; text-decoration-color: #0069ff; font-weight: bold\">INFO    </span> Found credentials from IAM Role:                                   <a href=\"file:///home/ec2-user/anaconda3/envs/python3/lib/python3.10/site-packages/botocore/credentials.py\" target=\"_blank\"><span style=\"color: #7f7f7f; text-decoration-color: #7f7f7f\">credentials.py</span></a><span style=\"color: #7f7f7f; text-decoration-color: #7f7f7f\">:</span><a href=\"file:///home/ec2-user/anaconda3/envs/python3/lib/python3.10/site-packages/botocore/credentials.py#1132\" target=\"_blank\"><span style=\"color: #7f7f7f; text-decoration-color: #7f7f7f\">1132</span></a>\n",
       "<span style=\"color: #7fbfbf; text-decoration-color: #7fbfbf\">                    </span>         BaseNotebookInstanceEc2InstanceRole                                <span style=\"color: #7f7f7f; text-decoration-color: #7f7f7f\">                   </span>\n",
       "</pre>\n"
      ],
      "text/plain": [
       "\u001b[2;36m[03/04/25 00:16:52]\u001b[0m\u001b[2;36m \u001b[0m\u001b[1;38;2;0;105;255mINFO    \u001b[0m Found credentials from IAM Role:                                   \u001b]8;id=878652;file:///home/ec2-user/anaconda3/envs/python3/lib/python3.10/site-packages/botocore/credentials.py\u001b\\\u001b[2mcredentials.py\u001b[0m\u001b]8;;\u001b\\\u001b[2m:\u001b[0m\u001b]8;id=827120;file:///home/ec2-user/anaconda3/envs/python3/lib/python3.10/site-packages/botocore/credentials.py#1132\u001b\\\u001b[2m1132\u001b[0m\u001b]8;;\u001b\\\n",
       "\u001b[2;36m                    \u001b[0m         BaseNotebookInstanceEc2InstanceRole                                \u001b[2m                   \u001b[0m\n"
      ]
     },
     "metadata": {},
     "output_type": "display_data"
    },
    {
     "name": "stdout",
     "output_type": "stream",
     "text": [
      "Raw shape: (2647472, 14)\n"
     ]
    }
   ],
   "source": [
    "# Load the raw data from S3 in json format\n",
    "df = pd.read_json(s3_path, lines=True)\n",
    "print(\"Raw shape:\", df.shape)"
   ]
  },
  {
   "cell_type": "code",
   "execution_count": 5,
   "id": "a128cd26-a2a0-4cda-b9d9-02c252219832",
   "metadata": {},
   "outputs": [
    {
     "name": "stdout",
     "output_type": "stream",
     "text": [
      "<class 'pandas.core.frame.DataFrame'>\n",
      "RangeIndex: 2647472 entries, 0 to 2647471\n",
      "Data columns (total 14 columns):\n",
      " #   Column          Dtype \n",
      "---  ------          ----- \n",
      " 0   id              object\n",
      " 1   submitter       object\n",
      " 2   authors         object\n",
      " 3   title           object\n",
      " 4   comments        object\n",
      " 5   journal-ref     object\n",
      " 6   doi             object\n",
      " 7   report-no       object\n",
      " 8   categories      object\n",
      " 9   license         object\n",
      " 10  abstract        object\n",
      " 11  versions        object\n",
      " 12  update_date     object\n",
      " 13  authors_parsed  object\n",
      "dtypes: object(14)\n",
      "memory usage: 282.8+ MB\n"
     ]
    }
   ],
   "source": [
    "# General info capture\n",
    "df.info()"
   ]
  },
  {
   "cell_type": "code",
   "execution_count": 6,
   "id": "4f1a250a-90a1-47cb-aee6-ce9528e95858",
   "metadata": {},
   "outputs": [
    {
     "data": {
      "text/html": [
       "<div>\n",
       "<style scoped>\n",
       "    .dataframe tbody tr th:only-of-type {\n",
       "        vertical-align: middle;\n",
       "    }\n",
       "\n",
       "    .dataframe tbody tr th {\n",
       "        vertical-align: top;\n",
       "    }\n",
       "\n",
       "    .dataframe thead th {\n",
       "        text-align: right;\n",
       "    }\n",
       "</style>\n",
       "<table border=\"1\" class=\"dataframe\">\n",
       "  <thead>\n",
       "    <tr style=\"text-align: right;\">\n",
       "      <th></th>\n",
       "      <th>id</th>\n",
       "      <th>submitter</th>\n",
       "      <th>authors</th>\n",
       "      <th>title</th>\n",
       "      <th>comments</th>\n",
       "      <th>journal-ref</th>\n",
       "      <th>doi</th>\n",
       "      <th>report-no</th>\n",
       "      <th>categories</th>\n",
       "      <th>license</th>\n",
       "      <th>abstract</th>\n",
       "      <th>versions</th>\n",
       "      <th>update_date</th>\n",
       "      <th>authors_parsed</th>\n",
       "    </tr>\n",
       "  </thead>\n",
       "  <tbody>\n",
       "    <tr>\n",
       "      <th>0</th>\n",
       "      <td>0704.0001</td>\n",
       "      <td>Pavel Nadolsky</td>\n",
       "      <td>C. Bal\\'azs, E. L. Berger, P. M. Nadolsky, C.-...</td>\n",
       "      <td>Calculation of prompt diphoton production cros...</td>\n",
       "      <td>37 pages, 15 figures; published version</td>\n",
       "      <td>Phys.Rev.D76:013009,2007</td>\n",
       "      <td>10.1103/PhysRevD.76.013009</td>\n",
       "      <td>ANL-HEP-PR-07-12</td>\n",
       "      <td>hep-ph</td>\n",
       "      <td>None</td>\n",
       "      <td>A fully differential calculation in perturba...</td>\n",
       "      <td>[{'version': 'v1', 'created': 'Mon, 2 Apr 2007...</td>\n",
       "      <td>2008-11-26</td>\n",
       "      <td>[[Balázs, C., ], [Berger, E. L., ], [Nadolsky,...</td>\n",
       "    </tr>\n",
       "    <tr>\n",
       "      <th>1</th>\n",
       "      <td>0704.0002</td>\n",
       "      <td>Louis Theran</td>\n",
       "      <td>Ileana Streinu and Louis Theran</td>\n",
       "      <td>Sparsity-certifying Graph Decompositions</td>\n",
       "      <td>To appear in Graphs and Combinatorics</td>\n",
       "      <td>None</td>\n",
       "      <td>None</td>\n",
       "      <td>None</td>\n",
       "      <td>math.CO cs.CG</td>\n",
       "      <td>http://arxiv.org/licenses/nonexclusive-distrib...</td>\n",
       "      <td>We describe a new algorithm, the $(k,\\ell)$-...</td>\n",
       "      <td>[{'version': 'v1', 'created': 'Sat, 31 Mar 200...</td>\n",
       "      <td>2008-12-13</td>\n",
       "      <td>[[Streinu, Ileana, ], [Theran, Louis, ]]</td>\n",
       "    </tr>\n",
       "    <tr>\n",
       "      <th>2</th>\n",
       "      <td>0704.0003</td>\n",
       "      <td>Hongjun Pan</td>\n",
       "      <td>Hongjun Pan</td>\n",
       "      <td>The evolution of the Earth-Moon system based o...</td>\n",
       "      <td>23 pages, 3 figures</td>\n",
       "      <td>None</td>\n",
       "      <td>None</td>\n",
       "      <td>None</td>\n",
       "      <td>physics.gen-ph</td>\n",
       "      <td>None</td>\n",
       "      <td>The evolution of Earth-Moon system is descri...</td>\n",
       "      <td>[{'version': 'v1', 'created': 'Sun, 1 Apr 2007...</td>\n",
       "      <td>2008-01-13</td>\n",
       "      <td>[[Pan, Hongjun, ]]</td>\n",
       "    </tr>\n",
       "    <tr>\n",
       "      <th>3</th>\n",
       "      <td>0704.0004</td>\n",
       "      <td>David Callan</td>\n",
       "      <td>David Callan</td>\n",
       "      <td>A determinant of Stirling cycle numbers counts...</td>\n",
       "      <td>11 pages</td>\n",
       "      <td>None</td>\n",
       "      <td>None</td>\n",
       "      <td>None</td>\n",
       "      <td>math.CO</td>\n",
       "      <td>None</td>\n",
       "      <td>We show that a determinant of Stirling cycle...</td>\n",
       "      <td>[{'version': 'v1', 'created': 'Sat, 31 Mar 200...</td>\n",
       "      <td>2007-05-23</td>\n",
       "      <td>[[Callan, David, ]]</td>\n",
       "    </tr>\n",
       "    <tr>\n",
       "      <th>4</th>\n",
       "      <td>0704.0005</td>\n",
       "      <td>Alberto Torchinsky</td>\n",
       "      <td>Wael Abu-Shammala and Alberto Torchinsky</td>\n",
       "      <td>From dyadic $\\Lambda_{\\alpha}$ to $\\Lambda_{\\a...</td>\n",
       "      <td>None</td>\n",
       "      <td>Illinois J. Math. 52 (2008) no.2, 681-689</td>\n",
       "      <td>None</td>\n",
       "      <td>None</td>\n",
       "      <td>math.CA math.FA</td>\n",
       "      <td>None</td>\n",
       "      <td>In this paper we show how to compute the $\\L...</td>\n",
       "      <td>[{'version': 'v1', 'created': 'Mon, 2 Apr 2007...</td>\n",
       "      <td>2013-10-15</td>\n",
       "      <td>[[Abu-Shammala, Wael, ], [Torchinsky, Alberto, ]]</td>\n",
       "    </tr>\n",
       "  </tbody>\n",
       "</table>\n",
       "</div>"
      ],
      "text/plain": [
       "          id           submitter  \\\n",
       "0  0704.0001      Pavel Nadolsky   \n",
       "1  0704.0002        Louis Theran   \n",
       "2  0704.0003         Hongjun Pan   \n",
       "3  0704.0004        David Callan   \n",
       "4  0704.0005  Alberto Torchinsky   \n",
       "\n",
       "                                             authors  \\\n",
       "0  C. Bal\\'azs, E. L. Berger, P. M. Nadolsky, C.-...   \n",
       "1                    Ileana Streinu and Louis Theran   \n",
       "2                                        Hongjun Pan   \n",
       "3                                       David Callan   \n",
       "4           Wael Abu-Shammala and Alberto Torchinsky   \n",
       "\n",
       "                                               title  \\\n",
       "0  Calculation of prompt diphoton production cros...   \n",
       "1           Sparsity-certifying Graph Decompositions   \n",
       "2  The evolution of the Earth-Moon system based o...   \n",
       "3  A determinant of Stirling cycle numbers counts...   \n",
       "4  From dyadic $\\Lambda_{\\alpha}$ to $\\Lambda_{\\a...   \n",
       "\n",
       "                                  comments  \\\n",
       "0  37 pages, 15 figures; published version   \n",
       "1    To appear in Graphs and Combinatorics   \n",
       "2                      23 pages, 3 figures   \n",
       "3                                 11 pages   \n",
       "4                                     None   \n",
       "\n",
       "                                 journal-ref                         doi  \\\n",
       "0                   Phys.Rev.D76:013009,2007  10.1103/PhysRevD.76.013009   \n",
       "1                                       None                        None   \n",
       "2                                       None                        None   \n",
       "3                                       None                        None   \n",
       "4  Illinois J. Math. 52 (2008) no.2, 681-689                        None   \n",
       "\n",
       "          report-no       categories  \\\n",
       "0  ANL-HEP-PR-07-12           hep-ph   \n",
       "1              None    math.CO cs.CG   \n",
       "2              None   physics.gen-ph   \n",
       "3              None          math.CO   \n",
       "4              None  math.CA math.FA   \n",
       "\n",
       "                                             license  \\\n",
       "0                                               None   \n",
       "1  http://arxiv.org/licenses/nonexclusive-distrib...   \n",
       "2                                               None   \n",
       "3                                               None   \n",
       "4                                               None   \n",
       "\n",
       "                                            abstract  \\\n",
       "0    A fully differential calculation in perturba...   \n",
       "1    We describe a new algorithm, the $(k,\\ell)$-...   \n",
       "2    The evolution of Earth-Moon system is descri...   \n",
       "3    We show that a determinant of Stirling cycle...   \n",
       "4    In this paper we show how to compute the $\\L...   \n",
       "\n",
       "                                            versions update_date  \\\n",
       "0  [{'version': 'v1', 'created': 'Mon, 2 Apr 2007...  2008-11-26   \n",
       "1  [{'version': 'v1', 'created': 'Sat, 31 Mar 200...  2008-12-13   \n",
       "2  [{'version': 'v1', 'created': 'Sun, 1 Apr 2007...  2008-01-13   \n",
       "3  [{'version': 'v1', 'created': 'Sat, 31 Mar 200...  2007-05-23   \n",
       "4  [{'version': 'v1', 'created': 'Mon, 2 Apr 2007...  2013-10-15   \n",
       "\n",
       "                                      authors_parsed  \n",
       "0  [[Balázs, C., ], [Berger, E. L., ], [Nadolsky,...  \n",
       "1           [[Streinu, Ileana, ], [Theran, Louis, ]]  \n",
       "2                                 [[Pan, Hongjun, ]]  \n",
       "3                                [[Callan, David, ]]  \n",
       "4  [[Abu-Shammala, Wael, ], [Torchinsky, Alberto, ]]  "
      ]
     },
     "execution_count": 6,
     "metadata": {},
     "output_type": "execute_result"
    }
   ],
   "source": [
    "df.head()"
   ]
  },
  {
   "cell_type": "code",
   "execution_count": 7,
   "id": "6b8ad39b-9d3b-4d52-9549-ca7948d31f62",
   "metadata": {},
   "outputs": [
    {
     "data": {
      "text/plain": [
       "'\\nWe can see that the data is highly varied per instance. Need to refine with NLP techniques\\n'"
      ]
     },
     "execution_count": 7,
     "metadata": {},
     "output_type": "execute_result"
    }
   ],
   "source": [
    "'''\n",
    "We can see that the data is highly varied per instance. Need to refine with NLP techniques\n",
    "'''"
   ]
  },
  {
   "cell_type": "code",
   "execution_count": 8,
   "id": "6465f5d3-5df7-4495-85f3-0fae83c842da",
   "metadata": {},
   "outputs": [
    {
     "name": "stdout",
     "output_type": "stream",
     "text": [
      "NaN counts per column:\n",
      "id                      0\n",
      "submitter           15189\n",
      "authors                 0\n",
      "title                   0\n",
      "comments           676924\n",
      "journal-ref       1771284\n",
      "doi               1427738\n",
      "report-no         2463839\n",
      "categories              0\n",
      "license            452794\n",
      "abstract                0\n",
      "versions                0\n",
      "update_date             0\n",
      "authors_parsed          0\n",
      "dtype: int64\n",
      "Total NaNs in dataset: 6807768\n"
     ]
    }
   ],
   "source": [
    "# Sum total NaNs across each feature, see what needs to be dropped\n",
    "nan_counts = df.isna().sum()\n",
    "print(\"NaN counts per column:\")\n",
    "print(nan_counts)\n",
    "print(\"Total NaNs in dataset:\", nan_counts.sum())"
   ]
  },
  {
   "cell_type": "code",
   "execution_count": 9,
   "id": "8ce9d8ae-dc71-44c2-9cd6-e103aa97eeff",
   "metadata": {},
   "outputs": [
    {
     "data": {
      "image/png": "[encoded data removed]",
      "text/plain": [
       "<Figure size 1000x600 with 1 Axes>"
      ]
     },
     "metadata": {},
     "output_type": "display_data"
    }
   ],
   "source": [
    "# Many NaN values, let's view them\n",
    "nan_counts = df.isna().sum()\n",
    "plt.figure(figsize=(10, 6))\n",
    "sns.barplot(x=nan_counts.index, y=nan_counts.values, palette=\"viridis\")\n",
    "plt.xticks(rotation=45)\n",
    "plt.title(\"NaN Counts per Column\")\n",
    "plt.ylabel(\"Number of NaNs\")\n",
    "plt.tight_layout()\n",
    "plt.show()"
   ]
  },
  {
   "cell_type": "code",
   "execution_count": 10,
   "id": "4ac4b410-b4c6-4d77-955e-095eaba1fa8e",
   "metadata": {},
   "outputs": [
    {
     "data": {
      "text/plain": [
       "'\\nWe have roughly 2.7 million instances, but in some features, over 1.5 million of those instances\\nare NaN values. This is too large a percentage to feature engineer, as any replacement, even a \\nrandom imputation based on currently available samples, will cause bias and misleading results.\\nSimply need to drop feature alltogether.\\n'"
      ]
     },
     "execution_count": 10,
     "metadata": {},
     "output_type": "execute_result"
    }
   ],
   "source": [
    "'''\n",
    "We have roughly 2.7 million instances, but in some features, over 1.5 million of those instances\n",
    "are NaN values. This is too large a percentage to feature engineer, as any replacement, even a \n",
    "random imputation based on currently available samples, will cause bias and misleading results.\n",
    "Simply need to drop feature alltogether.\n",
    "'''"
   ]
  },
  {
   "cell_type": "code",
   "execution_count": 21,
   "id": "50f584fa-095e-4e26-950c-7d6e79ecf31b",
   "metadata": {},
   "outputs": [
    {
     "data": {
      "text/plain": [
       "'\\nIn practice, \"authors_parsed\" and \"versions\" were causing issues since each instance actually has \\na dictionary nested within them. In future stages, such as training and endpoint deployment, \\nthey are highly troublesome. Best practice removing them here.\\n'"
      ]
     },
     "execution_count": 21,
     "metadata": {},
     "output_type": "execute_result"
    }
   ],
   "source": [
    "'''\n",
    "In practice, \"authors_parsed\" and \"versions\" were causing issues since each instance actually has \n",
    "a dictionary nested within them. In future stages, such as training and endpoint deployment, \n",
    "they are highly troublesome. Best practice removing them here.\n",
    "'''"
   ]
  },
  {
   "cell_type": "code",
   "execution_count": 11,
   "id": "4f8fb4e3-3c14-4d5d-a814-ac6826ad0b31",
   "metadata": {},
   "outputs": [],
   "source": [
    "# Since submitter is so small, we can remove all NaN instances without affecting the feature itself"
   ]
  },
  {
   "cell_type": "code",
   "execution_count": 12,
   "id": "7b7a5561-30da-44d1-a5ac-b76534f964b6",
   "metadata": {},
   "outputs": [
    {
     "name": "stdout",
     "output_type": "stream",
     "text": [
      "Dropped column: versions\n",
      "Dropped column: authors_parsed\n",
      "Dropped column: license\n",
      "Dropped column: report-no\n",
      "Dropped column: journal-ref\n",
      "Dropped column: comments\n",
      "Dropped column: doi\n",
      "Hopefully all things are cleaned. (2647472, 7)\n"
     ]
    }
   ],
   "source": [
    "# All feature we need to drop for excessive NaN or dictionary instances\n",
    "columns_to_drop = ['version', 'versions', 'authors_parsed', 'license', 'report-no', 'journal-ref', 'comments', 'doi']\n",
    "\n",
    "for col in columns_to_drop:\n",
    "    if col in df.columns:\n",
    "        df = df.drop(columns=[col])\n",
    "        print(f\"Dropped column: {col}\")\n",
    "\n",
    "print(\"Hopefully all things are cleaned.\", df.shape)"
   ]
  },
  {
   "cell_type": "code",
   "execution_count": 15,
   "id": "cfe30707-b1d1-419e-8ccb-6a60e5f8bcdf",
   "metadata": {},
   "outputs": [
    {
     "name": "stdout",
     "output_type": "stream",
     "text": [
      "NaN counts per column:\n",
      "id             0\n",
      "submitter      0\n",
      "authors        0\n",
      "title          0\n",
      "categories     0\n",
      "abstract       0\n",
      "update_date    0\n",
      "dtype: int64\n",
      "Total NaNs in dataset: 0\n"
     ]
    }
   ],
   "source": [
    "# Replace any string \"None\" with np.nan in all instances\n",
    "# Replace string \"None\" with np.nan and drop rows with missing values\n",
    "df = df.replace(\"None\", np.nan)\n",
    "print(\"NaN counts per column:\")\n",
    "print(df.isna().sum())\n",
    "df.dropna(inplace=True)\n",
    "print(\"Total NaNs in dataset:\", df.isna().sum().sum())"
   ]
  },
  {
   "cell_type": "code",
   "execution_count": 18,
   "id": "81235a48-347d-4dc4-a7eb-7fa3506e1261",
   "metadata": {},
   "outputs": [],
   "source": [
    "# TEXT DATA PREPROCESSING"
   ]
  },
  {
   "cell_type": "code",
   "execution_count": 19,
   "id": "f70f2e33-5849-4e01-b20b-3080c4aefa2a",
   "metadata": {},
   "outputs": [],
   "source": [
    "# First, remove stopwords with NLTK\n",
    "# Also setup for Lemmatizer\n",
    "stop_words = set(stopwords.words('english'))\n",
    "lemmatizer = WordNetLemmatizer()\n",
    "\n",
    "def remove_stop_words(text):\n",
    "    tokens = text.split()\n",
    "    filtered_tokens = [word for word in tokens if word.lower() not in stop_words]\n",
    "    return \" \".join(filtered_tokens)\n",
    "\n",
    "def remove_punct_numbers(text):\n",
    "    # Remove all non-alphabetic characters\n",
    "    return re.sub(r'[^a-zA-Z\\s]', '', text)\n",
    "\n",
    "def lemmatize_text(text):\n",
    "    tokens = text.split()\n",
    "    lemmatized = [lemmatizer.lemmatize(token) for token in tokens]\n",
    "    return \" \".join(lemmatized)"
   ]
  },
  {
   "cell_type": "code",
   "execution_count": 20,
   "id": "d6011f2a-57cf-45cd-94d3-9565b7d562ca",
   "metadata": {},
   "outputs": [
    {
     "name": "stdout",
     "output_type": "stream",
     "text": [
      "Text should be cleaned.\n"
     ]
    }
   ],
   "source": [
    "# Double check on title and abstract are not missing\n",
    "df['title'] = df['title'].fillna(\"\")\n",
    "df['abstract'] = df['abstract'].fillna(\"\")\n",
    "\n",
    "# Create a new text field by concatenating title and abstract\n",
    "df['text'] = df['title'] + \" \" + df['abstract']\n",
    "\n",
    "# Remove stop words from the text field and convert text to lowercase\n",
    "df['text'] = df['text'].str.lower().apply(remove_stop_words)\n",
    "\n",
    "# Remove punctuation and numbers\n",
    "df['text'] = df['text'].apply(remove_punct_numbers)\n",
    "# Lemmatization\n",
    "df['text'] = df['text'].apply(lemmatize_text)\n",
    "\n",
    "print(\"Text should be cleaned.\")"
   ]
  },
  {
   "cell_type": "code",
   "execution_count": 22,
   "id": "2140c94a-4659-4853-a090-1ca7b4871995",
   "metadata": {},
   "outputs": [
    {
     "data": {
      "text/plain": [
       "(2632283, 8)"
      ]
     },
     "execution_count": 22,
     "metadata": {},
     "output_type": "execute_result"
    }
   ],
   "source": [
    "df.shape"
   ]
  },
  {
   "cell_type": "code",
   "execution_count": 23,
   "id": "2466ac6e-77e3-4b30-b6f5-c547069bf9da",
   "metadata": {},
   "outputs": [
    {
     "name": "stdout",
     "output_type": "stream",
     "text": [
      "Data sorted by update_date.\n"
     ]
    }
   ],
   "source": [
    "df[\"update_date\"] = pd.to_datetime(df[\"update_date\"], format=\"%Y-%m-%d\", errors=\"coerce\")\n",
    "# Organize Data by Date and Filter for the Most Recent 8 Years\n",
    "df = df.sort_values(by='update_date')\n",
    "print(\"Data sorted by update_date.\")"
   ]
  },
  {
   "cell_type": "code",
   "execution_count": 24,
   "id": "fc64c18d-4a64-465d-bb5d-9c52a06daa29",
   "metadata": {},
   "outputs": [
    {
     "data": {
      "text/html": [
       "<pre style=\"white-space:pre;overflow-x:auto;line-height:normal;font-family:Menlo,'DejaVu Sans Mono',consolas,'Courier New',monospace\"><span style=\"color: #7fbfbf; text-decoration-color: #7fbfbf\">[03/04/25 00:44:39] </span><span style=\"color: #0069ff; text-decoration-color: #0069ff; font-weight: bold\">INFO    </span> Using categorical units to plot a list of strings that are all         <a href=\"file:///home/ec2-user/anaconda3/envs/python3/lib/python3.10/site-packages/matplotlib/category.py\" target=\"_blank\"><span style=\"color: #7f7f7f; text-decoration-color: #7f7f7f\">category.py</span></a><span style=\"color: #7f7f7f; text-decoration-color: #7f7f7f\">:</span><a href=\"file:///home/ec2-user/anaconda3/envs/python3/lib/python3.10/site-packages/matplotlib/category.py#224\" target=\"_blank\"><span style=\"color: #7f7f7f; text-decoration-color: #7f7f7f\">224</span></a>\n",
       "<span style=\"color: #7fbfbf; text-decoration-color: #7fbfbf\">                    </span>         parsable as floats or dates. If these strings should be plotted as     <span style=\"color: #7f7f7f; text-decoration-color: #7f7f7f\">               </span>\n",
       "<span style=\"color: #7fbfbf; text-decoration-color: #7fbfbf\">                    </span>         numbers, cast to the appropriate data type before plotting.            <span style=\"color: #7f7f7f; text-decoration-color: #7f7f7f\">               </span>\n",
       "</pre>\n"
      ],
      "text/plain": [
       "\u001b[2;36m[03/04/25 00:44:39]\u001b[0m\u001b[2;36m \u001b[0m\u001b[1;38;2;0;105;255mINFO    \u001b[0m Using categorical units to plot a list of strings that are all         \u001b]8;id=123683;file:///home/ec2-user/anaconda3/envs/python3/lib/python3.10/site-packages/matplotlib/category.py\u001b\\\u001b[2mcategory.py\u001b[0m\u001b]8;;\u001b\\\u001b[2m:\u001b[0m\u001b]8;id=358747;file:///home/ec2-user/anaconda3/envs/python3/lib/python3.10/site-packages/matplotlib/category.py#224\u001b\\\u001b[2m224\u001b[0m\u001b]8;;\u001b\\\n",
       "\u001b[2;36m                    \u001b[0m         parsable as floats or dates. If these strings should be plotted as     \u001b[2m               \u001b[0m\n",
       "\u001b[2;36m                    \u001b[0m         numbers, cast to the appropriate data type before plotting.            \u001b[2m               \u001b[0m\n"
      ]
     },
     "metadata": {},
     "output_type": "display_data"
    },
    {
     "data": {
      "text/html": [
       "<pre style=\"white-space:pre;overflow-x:auto;line-height:normal;font-family:Menlo,'DejaVu Sans Mono',consolas,'Courier New',monospace\"><span style=\"color: #7fbfbf; text-decoration-color: #7fbfbf\">                    </span><span style=\"color: #0069ff; text-decoration-color: #0069ff; font-weight: bold\">INFO    </span> Using categorical units to plot a list of strings that are all         <a href=\"file:///home/ec2-user/anaconda3/envs/python3/lib/python3.10/site-packages/matplotlib/category.py\" target=\"_blank\"><span style=\"color: #7f7f7f; text-decoration-color: #7f7f7f\">category.py</span></a><span style=\"color: #7f7f7f; text-decoration-color: #7f7f7f\">:</span><a href=\"file:///home/ec2-user/anaconda3/envs/python3/lib/python3.10/site-packages/matplotlib/category.py#224\" target=\"_blank\"><span style=\"color: #7f7f7f; text-decoration-color: #7f7f7f\">224</span></a>\n",
       "<span style=\"color: #7fbfbf; text-decoration-color: #7fbfbf\">                    </span>         parsable as floats or dates. If these strings should be plotted as     <span style=\"color: #7f7f7f; text-decoration-color: #7f7f7f\">               </span>\n",
       "<span style=\"color: #7fbfbf; text-decoration-color: #7fbfbf\">                    </span>         numbers, cast to the appropriate data type before plotting.            <span style=\"color: #7f7f7f; text-decoration-color: #7f7f7f\">               </span>\n",
       "</pre>\n"
      ],
      "text/plain": [
       "\u001b[2;36m                   \u001b[0m\u001b[2;36m \u001b[0m\u001b[1;38;2;0;105;255mINFO    \u001b[0m Using categorical units to plot a list of strings that are all         \u001b]8;id=378529;file:///home/ec2-user/anaconda3/envs/python3/lib/python3.10/site-packages/matplotlib/category.py\u001b\\\u001b[2mcategory.py\u001b[0m\u001b]8;;\u001b\\\u001b[2m:\u001b[0m\u001b]8;id=920114;file:///home/ec2-user/anaconda3/envs/python3/lib/python3.10/site-packages/matplotlib/category.py#224\u001b\\\u001b[2m224\u001b[0m\u001b]8;;\u001b\\\n",
       "\u001b[2;36m                    \u001b[0m         parsable as floats or dates. If these strings should be plotted as     \u001b[2m               \u001b[0m\n",
       "\u001b[2;36m                    \u001b[0m         numbers, cast to the appropriate data type before plotting.            \u001b[2m               \u001b[0m\n"
      ]
     },
     "metadata": {},
     "output_type": "display_data"
    },
    {
     "data": {
      "image/png": "[encoded data removed]",
      "text/plain": [
       "<Figure size 800x500 with 1 Axes>"
      ]
     },
     "metadata": {},
     "output_type": "display_data"
    }
   ],
   "source": [
    "df['year'] = df['update_date'].dt.year\n",
    "year_counts = df['year'].value_counts().sort_index()\n",
    "plt.figure(figsize=(8, 5))\n",
    "sns.barplot(x=year_counts.index.astype(str), y=year_counts.values, palette=\"magma\")\n",
    "plt.title(\"Instances per Year\")\n",
    "plt.xlabel(\"Year\")\n",
    "plt.ylabel(\"Count\")\n",
    "plt.tight_layout()\n",
    "plt.show()"
   ]
  },
  {
   "cell_type": "code",
   "execution_count": 25,
   "id": "f60b378f-b281-4686-a8db-69358672f980",
   "metadata": {},
   "outputs": [
    {
     "name": "stdout",
     "output_type": "stream",
     "text": [
      "Instances per year:\n",
      "2007    142977\n",
      "2008     67531\n",
      "2009    222406\n",
      "2010     55407\n",
      "2011     61208\n",
      "2012     57085\n",
      "2013     71710\n",
      "2014     87339\n",
      "2015    213748\n",
      "2016    131812\n",
      "2017    121902\n",
      "2018    135238\n",
      "2019    153562\n",
      "2020    173981\n",
      "2021    186005\n",
      "2022    190570\n",
      "2023    223960\n",
      "2024    318117\n",
      "2025     17725\n",
      "Name: year, dtype: int64\n"
     ]
    }
   ],
   "source": [
    "df['year'] = df['update_date'].dt.year\n",
    "print(\"Instances per year:\")\n",
    "print(df['year'].value_counts().sort_index())"
   ]
  },
  {
   "cell_type": "code",
   "execution_count": 26,
   "id": "2cd4cc05-a112-4606-ba20-9eaf9317b4e6",
   "metadata": {},
   "outputs": [
    {
     "data": {
      "text/plain": [
       "'\\nAn observation, after data exploration, is that the dataset extends\\nfrom 2007 to 2025. However, most early instances contained the NaN\\nvalues, indicating that only recently did the datakeeping records of\\nthe ArXiv dataset actually improve. \\n'"
      ]
     },
     "execution_count": 26,
     "metadata": {},
     "output_type": "execute_result"
    }
   ],
   "source": [
    "'''\n",
    "An observation, after data exploration, is that the dataset extends\n",
    "from 2007 to 2025. However, most early instances contained the NaN\n",
    "values, indicating that only recently did the datakeeping records of\n",
    "the ArXiv dataset actually improve. \n",
    "'''"
   ]
  },
  {
   "cell_type": "code",
   "execution_count": 27,
   "id": "5bd55f64-05b4-436e-a420-a4c5ce680f68",
   "metadata": {},
   "outputs": [
    {
     "name": "stdout",
     "output_type": "stream",
     "text": [
      "Max date in dataset: 2025-01-17 00:00:00\n",
      "Data shape after filtering for the most recent 8 years: (1516616, 9)\n"
     ]
    }
   ],
   "source": [
    "# Find the most recent date and filter our for just the last 8 years\n",
    "# Memory is a big constraint\n",
    "max_date = df['update_date'].max()\n",
    "print(\"Max date in dataset:\", max_date)\n",
    "eight_years_ago = max_date - pd.DateOffset(years=8)\n",
    "df_recent = df[df['update_date'] >= eight_years_ago]\n",
    "print(\"Data shape after filtering for the most recent 8 years:\", df_recent.shape)"
   ]
  },
  {
   "cell_type": "code",
   "execution_count": 28,
   "id": "4c7833bd-2139-407b-9975-83ff45e3dd9b",
   "metadata": {},
   "outputs": [
    {
     "data": {
      "image/png": "[encoded data removed]",
      "text/plain": [
       "<Figure size 1200x600 with 1 Axes>"
      ]
     },
     "metadata": {},
     "output_type": "display_data"
    }
   ],
   "source": [
    "monthly_counts = df.groupby(pd.Grouper(key='update_date', freq='M')).size()\n",
    "plt.figure(figsize=(12, 6))\n",
    "monthly_counts.plot()\n",
    "plt.title(\"Monthly Submissions Over Time\")\n",
    "plt.xlabel(\"Month\")\n",
    "plt.ylabel(\"Number of Submissions\")\n",
    "plt.tight_layout()\n",
    "plt.show()"
   ]
  },
  {
   "cell_type": "code",
   "execution_count": 29,
   "id": "de8b9f70-4d2e-4cec-a60b-e22d9b08f28f",
   "metadata": {},
   "outputs": [],
   "source": [
    "# CLEAN AND READY DATA\n",
    "# CREATION OF FEATURE GROUP/STORE"
   ]
  },
  {
   "cell_type": "code",
   "execution_count": 30,
   "id": "6590e65d-d9cc-45f2-a16d-5aebbabeb834",
   "metadata": {},
   "outputs": [
    {
     "name": "stdout",
     "output_type": "stream",
     "text": [
      "Feature Group Name: arxiv-feature-group-20250304004702\n"
     ]
    }
   ],
   "source": [
    "df_feature_group = df_recent.copy()\n",
    "\n",
    "# Convert all object columns to string because necessary for Feature Store ingestion\n",
    "for col in df_feature_group.columns:\n",
    "    if df_feature_group[col].dtype == \"object\":\n",
    "        df_feature_group[col] = df_feature_group[col].astype(\"string\")\n",
    "\n",
    "# Convert 'update_date' in datetime format to a string so that Feature Store can infer its type.\n",
    "if \"update_date\" in df_feature_group.columns:\n",
    "    df_feature_group[\"update_date\"] = df_feature_group[\"update_date\"].astype(\"string\")\n",
    "\n",
    "# EventTime column using current time, must be float or ISO format\n",
    "df_feature_group[\"EventTime\"] = datetime.utcnow().isoformat()\n",
    "\n",
    "# Generating individualized name\n",
    "feature_group_name = \"arxiv-feature-group-\" + datetime.now().strftime(\"%Y%m%d%H%M%S\")\n",
    "print(\"Feature Group Name:\", feature_group_name)"
   ]
  },
  {
   "cell_type": "code",
   "execution_count": 31,
   "id": "32c26398-b14e-4c25-8fb7-c04027c05ce4",
   "metadata": {},
   "outputs": [
    {
     "data": {
      "text/html": [
       "<pre style=\"white-space:pre;overflow-x:auto;line-height:normal;font-family:Menlo,'DejaVu Sans Mono',consolas,'Courier New',monospace\"><span style=\"color: #7fbfbf; text-decoration-color: #7fbfbf\">[03/04/25 00:47:14] </span><span style=\"color: #0069ff; text-decoration-color: #0069ff; font-weight: bold\">INFO    </span> Found credentials from IAM Role:                                   <a href=\"file:///home/ec2-user/anaconda3/envs/python3/lib/python3.10/site-packages/botocore/credentials.py\" target=\"_blank\"><span style=\"color: #7f7f7f; text-decoration-color: #7f7f7f\">credentials.py</span></a><span style=\"color: #7f7f7f; text-decoration-color: #7f7f7f\">:</span><a href=\"file:///home/ec2-user/anaconda3/envs/python3/lib/python3.10/site-packages/botocore/credentials.py#1132\" target=\"_blank\"><span style=\"color: #7f7f7f; text-decoration-color: #7f7f7f\">1132</span></a>\n",
       "<span style=\"color: #7fbfbf; text-decoration-color: #7fbfbf\">                    </span>         BaseNotebookInstanceEc2InstanceRole                                <span style=\"color: #7f7f7f; text-decoration-color: #7f7f7f\">                   </span>\n",
       "</pre>\n"
      ],
      "text/plain": [
       "\u001b[2;36m[03/04/25 00:47:14]\u001b[0m\u001b[2;36m \u001b[0m\u001b[1;38;2;0;105;255mINFO    \u001b[0m Found credentials from IAM Role:                                   \u001b]8;id=467098;file:///home/ec2-user/anaconda3/envs/python3/lib/python3.10/site-packages/botocore/credentials.py\u001b\\\u001b[2mcredentials.py\u001b[0m\u001b]8;;\u001b\\\u001b[2m:\u001b[0m\u001b]8;id=147410;file:///home/ec2-user/anaconda3/envs/python3/lib/python3.10/site-packages/botocore/credentials.py#1132\u001b\\\u001b[2m1132\u001b[0m\u001b]8;;\u001b\\\n",
       "\u001b[2;36m                    \u001b[0m         BaseNotebookInstanceEc2InstanceRole                                \u001b[2m                   \u001b[0m\n"
      ]
     },
     "metadata": {},
     "output_type": "display_data"
    },
    {
     "name": "stdout",
     "output_type": "stream",
     "text": [
      "Waiting for feature group creation...\n",
      "Waiting for feature group creation...\n",
      "Waiting for feature group creation...\n",
      "Waiting for feature group creation...\n",
      "Waiting for feature group creation...\n",
      "Waiting for feature group creation...\n",
      "Waiting for feature group creation...\n",
      "Waiting for feature group creation...\n",
      "Feature Group arxiv-feature-group-20250304004702 successfully created.\n"
     ]
    }
   ],
   "source": [
    "# FeatureGroup object\n",
    "feature_group = FeatureGroup(\n",
    "    name=feature_group_name,\n",
    "    sagemaker_session=sagemaker.Session(boto_session=boto3.Session(region_name=region))\n",
    ")\n",
    "\n",
    "# Load feature definitions from the DataFrame with an inferred schema\n",
    "feature_group.load_feature_definitions(data_frame=df_feature_group)\n",
    "\n",
    "# Create the feature group in Feature Store\n",
    "feature_group.create(\n",
    "    s3_uri=f\"s3://{bucket_name}/feature_store\",\n",
    "    record_identifier_name=\"id\",\n",
    "    event_time_feature_name=\"EventTime\",\n",
    "    role_arn=role,\n",
    "    enable_online_store=True\n",
    ")\n",
    "\n",
    "# Wait for creation to complete\n",
    "status = feature_group.describe().get(\"FeatureGroupStatus\")\n",
    "while status == \"Creating\":\n",
    "    print(\"Waiting for feature group creation...\")\n",
    "    time.sleep(5)\n",
    "    status = feature_group.describe().get(\"FeatureGroupStatus\")\n",
    "if status != \"Created\":\n",
    "    raise RuntimeError(f\"Failed to create feature group {feature_group_name}\")\n",
    "print(f\"Feature Group {feature_group_name} successfully created.\")"
   ]
  },
  {
   "cell_type": "code",
   "execution_count": 31,
   "id": "e456339d-a92c-4731-97e9-d3334536847e",
   "metadata": {},
   "outputs": [
    {
     "data": {
      "text/plain": [
       "\"\\nContinuing forward, before we upload the data, we need to vectorize and \\nreduce it's dimensionality to actually use it. In this project, we \\nimplement TF-IDF to vectorize and TruncatedSVD for dimensionality reduction,\\nboth with a primary focus of computational and memory restraints.\\n\""
      ]
     },
     "execution_count": 31,
     "metadata": {},
     "output_type": "execute_result"
    }
   ],
   "source": [
    "'''\n",
    "Continuing forward, before we upload the data, we need to vectorize and \n",
    "reduce it's dimensionality to actually use it. In this project, we \n",
    "implement TF-IDF to vectorize and TruncatedSVD for dimensionality reduction,\n",
    "both with a primary focus of computational and memory restraints.\n",
    "'''"
   ]
  },
  {
   "cell_type": "code",
   "execution_count": 32,
   "id": "84147672-8dfb-4749-a1bf-2920e7000397",
   "metadata": {},
   "outputs": [
    {
     "name": "stdout",
     "output_type": "stream",
     "text": [
      "TF-IDF matrix shape: (1516616, 300)\n"
     ]
    }
   ],
   "source": [
    "# TF-IDF on the cleaned text field\n",
    "# Really playing around with max_features, min_df, max_df\n",
    "# Random, educated guesses on all\n",
    "tfidf_vectorizer = TfidfVectorizer(max_features=300, min_df=2, max_df=0.8)\n",
    "tfidf_matrix = tfidf_vectorizer.fit_transform(df_recent['text'])\n",
    "print(\"TF-IDF matrix shape:\", tfidf_matrix.shape)"
   ]
  },
  {
   "cell_type": "code",
   "execution_count": 33,
   "id": "f8f9f2d6-a736-4f95-9111-e1ef012379c3",
   "metadata": {},
   "outputs": [
    {
     "name": "stdout",
     "output_type": "stream",
     "text": [
      "Reduced features shape: (1516616, 50)\n"
     ]
    }
   ],
   "source": [
    "# TruncatedSVD to reduce dimensionality which is highly problematic with this project\n",
    "svd = TruncatedSVD(n_components=50, random_state=39)\n",
    "X_reduced = svd.fit_transform(tfidf_matrix)\n",
    "print(\"Reduced features shape:\", X_reduced.shape)"
   ]
  },
  {
   "cell_type": "code",
   "execution_count": 34,
   "id": "775c8873-81bc-4162-b53e-ad4c1bdcde10",
   "metadata": {},
   "outputs": [
    {
     "name": "stdout",
     "output_type": "stream",
     "text": [
      "Final data shape with reduced features: (1516616, 59)\n"
     ]
    }
   ],
   "source": [
    "# New DataFrame for the reduced features\n",
    "df_reduced = pd.DataFrame(X_reduced, columns=[f'svd_{i}' for i in range(50)])\n",
    "# Reset index to ensure alignment, then concatenate with df_recent\n",
    "df_recent = df_recent.reset_index(drop=True)\n",
    "df_final = pd.concat([df_recent, df_reduced], axis=1)\n",
    "print(\"Final data shape with reduced features:\", df_final.shape)"
   ]
  },
  {
   "cell_type": "code",
   "execution_count": 35,
   "id": "830ba275-95aa-4d31-ade4-0c5bfda4904a",
   "metadata": {},
   "outputs": [
    {
     "name": "stdout",
     "output_type": "stream",
     "text": [
      "Unique years in final data: [2017, 2018, 2019, 2020, 2021, 2022, 2023, 2024, 2025]\n",
      "Recent 8 years for splitting: [2018, 2019, 2020, 2021, 2022, 2023, 2024, 2025]\n",
      "Train years: [2018, 2019, 2020, 2021]\n",
      "Test years: [2022, 2023]\n",
      "Validation years: [2024, 2025]\n",
      "Test set for 2022: (190570, 59)\n",
      "Test set for 2023: (223960, 59)\n",
      "Training set for 2018: (135238, 59)\n",
      "Training set for 2019: (153562, 59)\n",
      "Training set for 2020: (173981, 59)\n",
      "Training set for 2021: (186005, 59)\n",
      "Validation set for 2024: (318117, 59)\n",
      "Validation set for 2025: (17725, 59)\n"
     ]
    }
   ],
   "source": [
    "# Now we make our data split by year into test, train, validation\n",
    "df_final['year'] = df_final['update_date'].dt.year\n",
    "unique_years = sorted(df_final['year'].unique())\n",
    "print(\"Unique years in final data:\", unique_years)\n",
    "\n",
    "# Use the most recent 8 years\n",
    "if len(unique_years) >= 8:\n",
    "    recent_8_years = unique_years[-8:]\n",
    "else:\n",
    "    recent_8_years = unique_years\n",
    "print(\"Recent 8 years for splitting:\", recent_8_years)\n",
    "\n",
    "# Split the 8 years into:\n",
    "# Test: oldest 4 years\n",
    "# Train: next 2 years\n",
    "# Validation: most recent 2 years\n",
    "if len(recent_8_years) == 8:\n",
    "    train_years = recent_8_years[:4]\n",
    "    test_years = recent_8_years[4:6]\n",
    "    val_years = recent_8_years[6:]\n",
    "else:\n",
    "    # If fewer than 8, split proportionally (this branch is less likely)\n",
    "    n = len(recent_8_years)\n",
    "    train_years = recent_8_years[:n//2]\n",
    "    test_years = recent_8_years[n//2:n//2+1]\n",
    "    val_years = recent_8_years[n//2+1:]\n",
    "    \n",
    "print(\"Train years:\", train_years)\n",
    "print(\"Test years:\", test_years)\n",
    "print(\"Validation years:\", val_years)\n",
    "\n",
    "# Create DataFrames for each split\n",
    "dfs_test = {yr: df_final[df_final['year'] == yr] for yr in test_years}\n",
    "dfs_train = {yr: df_final[df_final['year'] == yr] for yr in train_years}\n",
    "dfs_val = {yr: df_final[df_final['year'] == yr] for yr in val_years}\n",
    "\n",
    "for yr, d in dfs_test.items():\n",
    "    print(f\"Test set for {yr}: {d.shape}\")\n",
    "for yr, d in dfs_train.items():\n",
    "    print(f\"Training set for {yr}: {d.shape}\")\n",
    "for yr, d in dfs_val.items():\n",
    "    print(f\"Validation set for {yr}: {d.shape}\")\n"
   ]
  },
  {
   "cell_type": "code",
   "execution_count": null,
   "id": "a59b861b-7052-4038-b0b2-3131ba002650",
   "metadata": {},
   "outputs": [
    {
     "name": "stdout",
     "output_type": "stream",
     "text": [
      "Uploaded arxiv_test_2022.csv to s3://arxiv-project-bucket/processed_csv/test/\n"
     ]
    }
   ],
   "source": [
    "# Save Each Years data split as CSV and push to S3\n",
    "def upload_df_to_s3(df, filename, s3_prefix):\n",
    "    # In-memory text buffer\n",
    "    csv_buffer = io.StringIO()\n",
    "    # Write the DataFrame to the buffer as CSV\n",
    "    df.to_csv(csv_buffer, index=False)\n",
    "    # Construct the S3 key (file path)\n",
    "    s3_key = f\"{s3_prefix}/{filename}\"\n",
    "    # Upload CSV to S3 directly from memory\n",
    "    s3_client.put_object(Bucket=bucket_name, Key=s3_key, Body=csv_buffer.getvalue())\n",
    "    print(f\"Uploaded {filename} to s3://{bucket_name}/{s3_prefix}/\")\n",
    "\n",
    "# For test set (4 consecutive years, one file per year)\n",
    "for yr, d in dfs_test.items():\n",
    "    fname = f\"arxiv_test_{yr}.csv\"\n",
    "    upload_df_to_s3(d, fname, test_prefix)\n",
    "\n",
    "# For training set (2 consecutive years, one file per year)\n",
    "for yr, d in dfs_train.items():\n",
    "    fname = f\"arxiv_train_{yr}.csv\"\n",
    "    upload_df_to_s3(d, fname, train_prefix)\n",
    "\n",
    "# For validation set (2 consecutive years, one file per year)\n",
    "for yr, d in dfs_val.items():\n",
    "    fname = f\"arxiv_val_{yr}.csv\"\n",
    "    upload_df_to_s3(d, fname, val_prefix)"
   ]
  },
  {
   "cell_type": "code",
   "execution_count": 37,
   "id": "fb899ea4-ab61-4ec9-beb1-853c2454602b",
   "metadata": {},
   "outputs": [
    {
     "name": "stdout",
     "output_type": "stream",
     "text": [
      "Max date in dataset: 2025-01-17 00:00:00\n",
      "Data shape after filtering for the most recent 8 years: (1516616, 9)\n"
     ]
    }
   ],
   "source": [
    "# Determine the most recent date and filter for the last 8 years\n",
    "max_date = df['update_date'].max()\n",
    "print(\"Max date in dataset:\", max_date)\n",
    "eight_years_ago = max_date - pd.DateOffset(years=8)\n",
    "df_recent = df[df['update_date'] >= eight_years_ago]\n",
    "print(\"Data shape after filtering for the most recent 8 years:\", df_recent.shape)"
   ]
  }
 ],
 "metadata": {
  "kernelspec": {
   "display_name": "conda_python3",
   "language": "python",
   "name": "conda_python3"
  },
  "language_info": {
   "codemirror_mode": {
    "name": "ipython",
    "version": 3
   },
   "file_extension": ".py",
   "mimetype": "text/x-python",
   "name": "python",
   "nbconvert_exporter": "python",
   "pygments_lexer": "ipython3",
   "version": "3.10.16"
  }
 },
 "nbformat": 4,
 "nbformat_minor": 5
}
