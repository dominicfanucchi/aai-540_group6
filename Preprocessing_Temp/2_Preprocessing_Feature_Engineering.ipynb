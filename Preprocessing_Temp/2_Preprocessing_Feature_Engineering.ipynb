{
 "cells": [
  {
   "cell_type": "code",
   "execution_count": null,
   "id": "8756cc38-031d-4142-8011-4273bef96d6a",
   "metadata": {},
   "outputs": [],
   "source": [
    "'''\n",
    "PReprocessing and feautre engineering on metadata using new abstract feature,\n",
    "saving results as parquet file and TF-IDF features for text analysis and \n",
    "eventual kmeans. Split 70% training, 10% test, 20% pseudo real-world validation\n",
    "All saved to S3. \n",
    "'''"
   ]
  },
  {
   "cell_type": "code",
   "execution_count": 2,
   "id": "a4e6605f-9d8b-4de6-889d-1a013b3a45ae",
   "metadata": {},
   "outputs": [
    {
     "name": "stderr",
     "output_type": "stream",
     "text": [
      "/home/ec2-user/anaconda3/envs/python3/lib/python3.10/site-packages/pydantic/_internal/_fields.py:192: UserWarning: Field name \"json\" in \"MonitoringDatasetFormat\" shadows an attribute in parent \"Base\"\n",
      "  warnings.warn(\n"
     ]
    },
    {
     "data": {
      "text/html": [
       "<pre style=\"white-space:pre;overflow-x:auto;line-height:normal;font-family:Menlo,'DejaVu Sans Mono',consolas,'Courier New',monospace\"><span style=\"color: #7fbfbf; text-decoration-color: #7fbfbf\">[02/19/25 20:57:31] </span><span style=\"color: #0069ff; text-decoration-color: #0069ff; font-weight: bold\">INFO    </span> Found credentials from IAM Role:                                   <a href=\"file:///home/ec2-user/anaconda3/envs/python3/lib/python3.10/site-packages/botocore/credentials.py\" target=\"_blank\"><span style=\"color: #7f7f7f; text-decoration-color: #7f7f7f\">credentials.py</span></a><span style=\"color: #7f7f7f; text-decoration-color: #7f7f7f\">:</span><a href=\"file:///home/ec2-user/anaconda3/envs/python3/lib/python3.10/site-packages/botocore/credentials.py#1075\" target=\"_blank\"><span style=\"color: #7f7f7f; text-decoration-color: #7f7f7f\">1075</span></a>\n",
       "<span style=\"color: #7fbfbf; text-decoration-color: #7fbfbf\">                    </span>         BaseNotebookInstanceEc2InstanceRole                                <span style=\"color: #7f7f7f; text-decoration-color: #7f7f7f\">                   </span>\n",
       "</pre>\n"
      ],
      "text/plain": [
       "\u001b[2;36m[02/19/25 20:57:31]\u001b[0m\u001b[2;36m \u001b[0m\u001b[1;38;2;0;105;255mINFO    \u001b[0m Found credentials from IAM Role:                                   \u001b]8;id=641367;file:///home/ec2-user/anaconda3/envs/python3/lib/python3.10/site-packages/botocore/credentials.py\u001b\\\u001b[2mcredentials.py\u001b[0m\u001b]8;;\u001b\\\u001b[2m:\u001b[0m\u001b]8;id=898142;file:///home/ec2-user/anaconda3/envs/python3/lib/python3.10/site-packages/botocore/credentials.py#1075\u001b\\\u001b[2m1075\u001b[0m\u001b]8;;\u001b\\\n",
       "\u001b[2;36m                    \u001b[0m         BaseNotebookInstanceEc2InstanceRole                                \u001b[2m                   \u001b[0m\n"
      ]
     },
     "metadata": {},
     "output_type": "display_data"
    },
    {
     "name": "stdout",
     "output_type": "stream",
     "text": [
      "sagemaker.config INFO - Not applying SDK defaults from location: /etc/xdg/sagemaker/config.yaml\n",
      "sagemaker.config INFO - Not applying SDK defaults from location: /home/ec2-user/.config/sagemaker/config.yaml\n"
     ]
    }
   ],
   "source": [
    "# Library imports, setup, etc.\n",
    "import boto3\n",
    "import sagemaker\n",
    "import json\n",
    "import pandas as pd\n",
    "import awswrangler as wr\n",
    "import matplotlib.pyplot as plt\n",
    "import seaborn as sns\n",
    "from sklearn.feature_extraction.text import TfidfVectorizer\n",
    "from sklearn.model_selection import train_test_split"
   ]
  },
  {
   "cell_type": "code",
   "execution_count": 3,
   "id": "07cae4d0-336a-441a-9d16-e8f02cee697d",
   "metadata": {},
   "outputs": [
    {
     "data": {
      "text/html": [
       "<pre style=\"white-space:pre;overflow-x:auto;line-height:normal;font-family:Menlo,'DejaVu Sans Mono',consolas,'Courier New',monospace\"><span style=\"color: #7fbfbf; text-decoration-color: #7fbfbf\">[02/19/25 20:57:49] </span><span style=\"color: #0069ff; text-decoration-color: #0069ff; font-weight: bold\">INFO    </span> Found credentials from IAM Role:                                   <a href=\"file:///home/ec2-user/anaconda3/envs/python3/lib/python3.10/site-packages/botocore/credentials.py\" target=\"_blank\"><span style=\"color: #7f7f7f; text-decoration-color: #7f7f7f\">credentials.py</span></a><span style=\"color: #7f7f7f; text-decoration-color: #7f7f7f\">:</span><a href=\"file:///home/ec2-user/anaconda3/envs/python3/lib/python3.10/site-packages/botocore/credentials.py#1075\" target=\"_blank\"><span style=\"color: #7f7f7f; text-decoration-color: #7f7f7f\">1075</span></a>\n",
       "<span style=\"color: #7fbfbf; text-decoration-color: #7fbfbf\">                    </span>         BaseNotebookInstanceEc2InstanceRole                                <span style=\"color: #7f7f7f; text-decoration-color: #7f7f7f\">                   </span>\n",
       "</pre>\n"
      ],
      "text/plain": [
       "\u001b[2;36m[02/19/25 20:57:49]\u001b[0m\u001b[2;36m \u001b[0m\u001b[1;38;2;0;105;255mINFO    \u001b[0m Found credentials from IAM Role:                                   \u001b]8;id=806298;file:///home/ec2-user/anaconda3/envs/python3/lib/python3.10/site-packages/botocore/credentials.py\u001b\\\u001b[2mcredentials.py\u001b[0m\u001b]8;;\u001b\\\u001b[2m:\u001b[0m\u001b]8;id=573775;file:///home/ec2-user/anaconda3/envs/python3/lib/python3.10/site-packages/botocore/credentials.py#1075\u001b\\\u001b[2m1075\u001b[0m\u001b]8;;\u001b\\\n",
       "\u001b[2;36m                    \u001b[0m         BaseNotebookInstanceEc2InstanceRole                                \u001b[2m                   \u001b[0m\n"
      ]
     },
     "metadata": {},
     "output_type": "display_data"
    },
    {
     "name": "stdout",
     "output_type": "stream",
     "text": [
      "Bucket: arxiv-project-bucket\n"
     ]
    }
   ],
   "source": [
    "sns.set(style=\"whitegrid\")\n",
    "\n",
    "# Configuration\n",
    "bucket_name = \"arxiv-project-bucket\"\n",
    "data_key = \"arxiv-metadata-oai-snapshot.json\"\n",
    "role = \"arn:aws:iam::221082214706:role/MYLabRole\"\n",
    "region = \"us-east-1\"\n",
    "\n",
    "sess = sagemaker.Session(boto_session=boto3.Session(region_name=region))\n",
    "print(\"Bucket:\", bucket_name)"
   ]
  },
  {
   "cell_type": "code",
   "execution_count": 4,
   "id": "3da4e612-b439-4bd4-a4d0-43a1df31a163",
   "metadata": {},
   "outputs": [],
   "source": [
    "# Chunk Processing Function, cannot load in all data at once \n",
    "def process_in_chunks(bucket, key, chunk_size=100000):\n",
    "    \"\"\"\n",
    "    Generator reads in newline-delimited JSON file from S3\n",
    "    \"\"\"\n",
    "    s3 = boto3.client('s3')\n",
    "    obj = s3.get_object(Bucket=bucket, Key=key)\n",
    "    chunk = []\n",
    "    for i, line in enumerate(obj['Body'].iter_lines()):\n",
    "        if line:\n",
    "            record = json.loads(line.decode('utf-8'))\n",
    "            chunk.append(record)\n",
    "            if len(chunk) >= chunk_size:\n",
    "                yield pd.DataFrame(chunk)\n",
    "                chunk = []\n",
    "    if chunk:\n",
    "        yield pd.DataFrame(chunk)"
   ]
  },
  {
   "cell_type": "code",
   "execution_count": 7,
   "id": "e5cfd3ea-45ca-4694-839a-669260f78fa7",
   "metadata": {},
   "outputs": [],
   "source": [
    "'''\n",
    "Process Data in Chunks and Write Splits Individually\n",
    "# We will process each chunk, compute TF-IDF on that chunk,\n",
    "# split the chunk into train/test/real-world parts, and then write each part separately.\n",
    "'''\n",
    "\n",
    "chunk_size = 100000\n",
    "chunk_index = 0"
   ]
  },
  {
   "cell_type": "code",
   "execution_count": 9,
   "id": "e377161a-e52f-451d-a293-72827f60b424",
   "metadata": {},
   "outputs": [
    {
     "data": {
      "text/html": [
       "<pre style=\"white-space:pre;overflow-x:auto;line-height:normal;font-family:Menlo,'DejaVu Sans Mono',consolas,'Courier New',monospace\"><span style=\"color: #7fbfbf; text-decoration-color: #7fbfbf\">[02/19/25 21:37:13] </span><span style=\"color: #0069ff; text-decoration-color: #0069ff; font-weight: bold\">INFO    </span> Skipping checksum validation. Response did not contain one of the  <a href=\"file:///home/ec2-user/anaconda3/envs/python3/lib/python3.10/site-packages/botocore/httpchecksum.py\" target=\"_blank\"><span style=\"color: #7f7f7f; text-decoration-color: #7f7f7f\">httpchecksum.py</span></a><span style=\"color: #7f7f7f; text-decoration-color: #7f7f7f\">:</span><a href=\"file:///home/ec2-user/anaconda3/envs/python3/lib/python3.10/site-packages/botocore/httpchecksum.py#481\" target=\"_blank\"><span style=\"color: #7f7f7f; text-decoration-color: #7f7f7f\">481</span></a>\n",
       "<span style=\"color: #7fbfbf; text-decoration-color: #7fbfbf\">                    </span>         following algorithms: <span style=\"font-weight: bold\">[</span><span style=\"color: #008700; text-decoration-color: #008700\">'crc32'</span>, <span style=\"color: #008700; text-decoration-color: #008700\">'sha1'</span>, <span style=\"color: #008700; text-decoration-color: #008700\">'sha256'</span><span style=\"font-weight: bold\">]</span>.                 <span style=\"color: #7f7f7f; text-decoration-color: #7f7f7f\">                   </span>\n",
       "</pre>\n"
      ],
      "text/plain": [
       "\u001b[2;36m[02/19/25 21:37:13]\u001b[0m\u001b[2;36m \u001b[0m\u001b[1;38;2;0;105;255mINFO    \u001b[0m Skipping checksum validation. Response did not contain one of the  \u001b]8;id=153360;file:///home/ec2-user/anaconda3/envs/python3/lib/python3.10/site-packages/botocore/httpchecksum.py\u001b\\\u001b[2mhttpchecksum.py\u001b[0m\u001b]8;;\u001b\\\u001b[2m:\u001b[0m\u001b]8;id=786312;file:///home/ec2-user/anaconda3/envs/python3/lib/python3.10/site-packages/botocore/httpchecksum.py#481\u001b\\\u001b[2m481\u001b[0m\u001b]8;;\u001b\\\n",
       "\u001b[2;36m                    \u001b[0m         following algorithms: \u001b[1m[\u001b[0m\u001b[38;2;0;135;0m'crc32'\u001b[0m, \u001b[38;2;0;135;0m'sha1'\u001b[0m, \u001b[38;2;0;135;0m'sha256'\u001b[0m\u001b[1m]\u001b[0m.                 \u001b[2m                   \u001b[0m\n"
      ]
     },
     "metadata": {},
     "output_type": "display_data"
    },
    {
     "name": "stdout",
     "output_type": "stream",
     "text": [
      "Processing chunk 0 with shape: (100000, 14)\n",
      "TF-IDF matrix shape for chunk: (100000, 1000)\n",
      "Chunk 0 split shapes:\n",
      "  Train: (70000, 25)\n",
      "  Test: (9999, 25)\n",
      "  Real-world: (20001, 25)\n",
      "Chunk 0 files written directly to S3.\n",
      "Processing chunk 1 with shape: (100000, 14)\n",
      "TF-IDF matrix shape for chunk: (100000, 1000)\n",
      "Chunk 1 split shapes:\n",
      "  Train: (70000, 25)\n",
      "  Test: (9999, 25)\n",
      "  Real-world: (20001, 25)\n",
      "Chunk 1 files written directly to S3.\n",
      "Processing chunk 2 with shape: (100000, 14)\n",
      "TF-IDF matrix shape for chunk: (100000, 1000)\n",
      "Chunk 2 split shapes:\n",
      "  Train: (70000, 25)\n",
      "  Test: (9999, 25)\n",
      "  Real-world: (20001, 25)\n",
      "Chunk 2 files written directly to S3.\n",
      "Processing chunk 3 with shape: (100000, 14)\n",
      "TF-IDF matrix shape for chunk: (100000, 1000)\n",
      "Chunk 3 split shapes:\n",
      "  Train: (70000, 25)\n",
      "  Test: (9999, 25)\n",
      "  Real-world: (20001, 25)\n",
      "Chunk 3 files written directly to S3.\n",
      "Processing chunk 4 with shape: (100000, 14)\n",
      "TF-IDF matrix shape for chunk: (100000, 1000)\n",
      "Chunk 4 split shapes:\n",
      "  Train: (70000, 25)\n",
      "  Test: (9999, 25)\n",
      "  Real-world: (20001, 25)\n",
      "Chunk 4 files written directly to S3.\n",
      "Processing chunk 5 with shape: (100000, 14)\n",
      "TF-IDF matrix shape for chunk: (100000, 1000)\n",
      "Chunk 5 split shapes:\n",
      "  Train: (70000, 25)\n",
      "  Test: (9999, 25)\n",
      "  Real-world: (20001, 25)\n",
      "Chunk 5 files written directly to S3.\n",
      "Processing chunk 6 with shape: (100000, 14)\n",
      "TF-IDF matrix shape for chunk: (100000, 1000)\n",
      "Chunk 6 split shapes:\n",
      "  Train: (70000, 25)\n",
      "  Test: (9999, 25)\n",
      "  Real-world: (20001, 25)\n",
      "Chunk 6 files written directly to S3.\n",
      "Processing chunk 7 with shape: (100000, 14)\n",
      "TF-IDF matrix shape for chunk: (100000, 1000)\n",
      "Chunk 7 split shapes:\n",
      "  Train: (70000, 25)\n",
      "  Test: (9999, 25)\n",
      "  Real-world: (20001, 25)\n",
      "Chunk 7 files written directly to S3.\n",
      "Processing chunk 8 with shape: (100000, 14)\n",
      "TF-IDF matrix shape for chunk: (100000, 1000)\n",
      "Chunk 8 split shapes:\n",
      "  Train: (70000, 25)\n",
      "  Test: (9999, 25)\n",
      "  Real-world: (20001, 25)\n",
      "Chunk 8 files written directly to S3.\n",
      "Processing chunk 9 with shape: (100000, 14)\n",
      "TF-IDF matrix shape for chunk: (100000, 1000)\n",
      "Chunk 9 split shapes:\n",
      "  Train: (70000, 25)\n",
      "  Test: (9999, 25)\n",
      "  Real-world: (20001, 25)\n",
      "Chunk 9 files written directly to S3.\n",
      "Processing chunk 10 with shape: (100000, 14)\n",
      "TF-IDF matrix shape for chunk: (100000, 1000)\n",
      "Chunk 10 split shapes:\n",
      "  Train: (70000, 25)\n",
      "  Test: (9999, 25)\n",
      "  Real-world: (20001, 25)\n",
      "Chunk 10 files written directly to S3.\n",
      "Processing chunk 11 with shape: (100000, 14)\n",
      "TF-IDF matrix shape for chunk: (100000, 1000)\n",
      "Chunk 11 split shapes:\n",
      "  Train: (70000, 25)\n",
      "  Test: (9999, 25)\n",
      "  Real-world: (20001, 25)\n",
      "Chunk 11 files written directly to S3.\n",
      "Processing chunk 12 with shape: (100000, 14)\n",
      "TF-IDF matrix shape for chunk: (100000, 1000)\n",
      "Chunk 12 split shapes:\n",
      "  Train: (70000, 25)\n",
      "  Test: (9999, 25)\n",
      "  Real-world: (20001, 25)\n",
      "Chunk 12 files written directly to S3.\n",
      "Processing chunk 13 with shape: (100000, 14)\n",
      "TF-IDF matrix shape for chunk: (100000, 1000)\n",
      "Chunk 13 split shapes:\n",
      "  Train: (70000, 25)\n",
      "  Test: (9999, 25)\n",
      "  Real-world: (20001, 25)\n",
      "Chunk 13 files written directly to S3.\n",
      "Processing chunk 14 with shape: (100000, 14)\n",
      "TF-IDF matrix shape for chunk: (100000, 1000)\n",
      "Chunk 14 split shapes:\n",
      "  Train: (70000, 25)\n",
      "  Test: (9999, 25)\n",
      "  Real-world: (20001, 25)\n",
      "Chunk 14 files written directly to S3.\n",
      "Processing chunk 15 with shape: (100000, 14)\n",
      "TF-IDF matrix shape for chunk: (100000, 1000)\n",
      "Chunk 15 split shapes:\n",
      "  Train: (70000, 25)\n",
      "  Test: (9999, 25)\n",
      "  Real-world: (20001, 25)\n",
      "Chunk 15 files written directly to S3.\n",
      "Processing chunk 16 with shape: (100000, 14)\n",
      "TF-IDF matrix shape for chunk: (100000, 1000)\n",
      "Chunk 16 split shapes:\n",
      "  Train: (70000, 25)\n",
      "  Test: (9999, 25)\n",
      "  Real-world: (20001, 25)\n",
      "Chunk 16 files written directly to S3.\n",
      "Processing chunk 17 with shape: (100000, 14)\n",
      "TF-IDF matrix shape for chunk: (100000, 1000)\n",
      "Chunk 17 split shapes:\n",
      "  Train: (70000, 25)\n",
      "  Test: (9999, 25)\n",
      "  Real-world: (20001, 25)\n",
      "Chunk 17 files written directly to S3.\n",
      "Processing chunk 18 with shape: (100000, 14)\n",
      "TF-IDF matrix shape for chunk: (100000, 1000)\n",
      "Chunk 18 split shapes:\n",
      "  Train: (70000, 25)\n",
      "  Test: (9999, 25)\n",
      "  Real-world: (20001, 25)\n",
      "Chunk 18 files written directly to S3.\n",
      "Processing chunk 19 with shape: (100000, 14)\n",
      "TF-IDF matrix shape for chunk: (100000, 1000)\n",
      "Chunk 19 split shapes:\n",
      "  Train: (70000, 25)\n",
      "  Test: (9999, 25)\n",
      "  Real-world: (20001, 25)\n",
      "Chunk 19 files written directly to S3.\n",
      "Processing chunk 20 with shape: (100000, 14)\n",
      "TF-IDF matrix shape for chunk: (100000, 1000)\n",
      "Chunk 20 split shapes:\n",
      "  Train: (70000, 25)\n",
      "  Test: (9999, 25)\n",
      "  Real-world: (20001, 25)\n",
      "Chunk 20 files written directly to S3.\n",
      "Processing chunk 21 with shape: (100000, 14)\n",
      "TF-IDF matrix shape for chunk: (100000, 1000)\n",
      "Chunk 21 split shapes:\n",
      "  Train: (70000, 25)\n",
      "  Test: (9999, 25)\n",
      "  Real-world: (20001, 25)\n",
      "Chunk 21 files written directly to S3.\n",
      "Processing chunk 22 with shape: (100000, 14)\n",
      "TF-IDF matrix shape for chunk: (100000, 1000)\n",
      "Chunk 22 split shapes:\n",
      "  Train: (70000, 25)\n",
      "  Test: (9999, 25)\n",
      "  Real-world: (20001, 25)\n",
      "Chunk 22 files written directly to S3.\n",
      "Processing chunk 23 with shape: (100000, 14)\n",
      "TF-IDF matrix shape for chunk: (100000, 1000)\n",
      "Chunk 23 split shapes:\n",
      "  Train: (70000, 25)\n",
      "  Test: (9999, 25)\n",
      "  Real-world: (20001, 25)\n",
      "Chunk 23 files written directly to S3.\n",
      "Processing chunk 24 with shape: (100000, 14)\n",
      "TF-IDF matrix shape for chunk: (100000, 1000)\n",
      "Chunk 24 split shapes:\n",
      "  Train: (70000, 25)\n",
      "  Test: (9999, 25)\n",
      "  Real-world: (20001, 25)\n",
      "Chunk 24 files written directly to S3.\n",
      "Processing chunk 25 with shape: (100000, 14)\n",
      "TF-IDF matrix shape for chunk: (100000, 1000)\n",
      "Chunk 25 split shapes:\n",
      "  Train: (70000, 25)\n",
      "  Test: (9999, 25)\n",
      "  Real-world: (20001, 25)\n",
      "Chunk 25 files written directly to S3.\n",
      "Processing chunk 26 with shape: (47472, 14)\n",
      "TF-IDF matrix shape for chunk: (47472, 1000)\n",
      "Chunk 26 split shapes:\n",
      "  Train: (33230, 25)\n",
      "  Test: (4746, 25)\n",
      "  Real-world: (9496, 25)\n",
      "Chunk 26 files written directly to S3.\n"
     ]
    }
   ],
   "source": [
    "# Splits directly to S3\n",
    "\n",
    "for df_chunk in process_in_chunks(bucket_name, data_key, chunk_size=chunk_size):\n",
    "    print(f\"Processing chunk {chunk_index} with shape: {df_chunk.shape}\")\n",
    "    \n",
    "    # Basic preprocessing for each chunk\n",
    "    df_chunk[\"title\"] = df_chunk[\"title\"].fillna(\"\")\n",
    "    df_chunk[\"abstract\"] = df_chunk[\"abstract\"].fillna(\"\")\n",
    "    df_chunk[\"text\"] = df_chunk[\"title\"] + \" \" + df_chunk[\"abstract\"]\n",
    "    \n",
    "    # Compute TF-IDF features for this chunk\n",
    "    vectorizer = TfidfVectorizer(max_features=1000, stop_words='english')\n",
    "    tfidf_matrix = vectorizer.fit_transform(df_chunk[\"text\"])\n",
    "    print(\"TF-IDF matrix shape for chunk:\", tfidf_matrix.shape)\n",
    "    \n",
    "    # Select top 10 TF-IDF features for this chunk\n",
    "    feature_names = vectorizer.get_feature_names_out()\n",
    "    tfidf_df = pd.DataFrame(tfidf_matrix.toarray(), columns=feature_names)\n",
    "    df_features = pd.concat([df_chunk.reset_index(drop=True), tfidf_df.iloc[:, :10]], axis=1)\n",
    "    \n",
    "    # Split the chunk to roughly our percentages\n",
    "    df_train_chunk, df_temp_chunk = train_test_split(df_features, test_size=0.3, random_state=39)\n",
    "    df_test_chunk, df_realworld_chunk = train_test_split(df_temp_chunk, test_size=0.6667, random_state=39)\n",
    "    \n",
    "    print(f\"Chunk {chunk_index} split shapes:\")\n",
    "    print(\"  Train:\", df_train_chunk.shape)\n",
    "    print(\"  Test:\", df_test_chunk.shape)\n",
    "    print(\"  Real-world:\", df_realworld_chunk.shape)\n",
    "    \n",
    "    # Write each split directly to S3 \n",
    "    \n",
    "    wr.s3.to_parquet(\n",
    "        df=df_train_chunk,\n",
    "        path=f\"s3://{bucket_name}/processed/train/arxiv_train_chunk_{chunk_index}.parquet\",\n",
    "        dataset=True,\n",
    "        mode=\"overwrite\",\n",
    "        compression=\"snappy\"\n",
    "    )\n",
    "    wr.s3.to_parquet(\n",
    "        df=df_test_chunk,\n",
    "        path=f\"s3://{bucket_name}/processed/test/arxiv_test_chunk_{chunk_index}.parquet\",\n",
    "        dataset=True,\n",
    "        mode=\"overwrite\",\n",
    "        compression=\"snappy\"\n",
    "    )\n",
    "    wr.s3.to_parquet(\n",
    "        df=df_realworld_chunk,\n",
    "        path=f\"s3://{bucket_name}/processed/realworld/arxiv_realworld_chunk_{chunk_index}.parquet\",\n",
    "        dataset=True,\n",
    "        mode=\"overwrite\",\n",
    "        compression=\"snappy\"\n",
    "    )\n",
    "    \n",
    "    print(f\"Chunk {chunk_index} files written directly to S3.\")\n",
    "    chunk_index += 1"
   ]
  },
  {
   "cell_type": "code",
   "execution_count": 10,
   "id": "134e233e-ae59-4c04-b8ba-76553f2aae4f",
   "metadata": {},
   "outputs": [
    {
     "data": {
      "image/png": "[encoded data removed]",
      "text/plain": [
       "<Figure size 1000x600 with 1 Axes>"
      ]
     },
     "metadata": {},
     "output_type": "display_data"
    }
   ],
   "source": [
    "# Visualize an Example TF-IDF Feature Distribution from the Last Chunk Processed\n",
    "plt.figure(figsize=(10,6))\n",
    "plt.hist(df_features.iloc[:, -1], bins=50, color='skyblue')\n",
    "plt.title(\"Distribution of TF-IDF Feature: \" + feature_names[-1])\n",
    "plt.xlabel(\"TF-IDF Value\")\n",
    "plt.ylabel(\"Frequency\")\n",
    "plt.show()"
   ]
  }
 ],
 "metadata": {
  "kernelspec": {
   "display_name": "conda_python3",
   "language": "python",
   "name": "conda_python3"
  },
  "language_info": {
   "codemirror_mode": {
    "name": "ipython",
    "version": 3
   },
   "file_extension": ".py",
   "mimetype": "text/x-python",
   "name": "python",
   "nbconvert_exporter": "python",
   "pygments_lexer": "ipython3",
   "version": "3.10.16"
  }
 },
 "nbformat": 4,
 "nbformat_minor": 5
}
